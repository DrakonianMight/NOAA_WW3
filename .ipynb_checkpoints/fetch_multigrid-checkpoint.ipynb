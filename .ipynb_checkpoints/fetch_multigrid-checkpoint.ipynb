{
 "cells": [
  {
   "cell_type": "markdown",
   "metadata": {},
   "source": [
    "# Script to download NOAA wave model data"
   ]
  },
  {
   "cell_type": "markdown",
   "metadata": {},
   "source": [
    "**Date:** 25-01-2019\n",
    "\n",
    "**Purpose:** Downloads NOAA model data for wave buoy locations"
   ]
  },
  {
   "cell_type": "code",
   "execution_count": 1,
   "metadata": {},
   "outputs": [],
   "source": [
    "import pandas as pd\n",
    "import numpy as np\n",
    "import datetime as dt\n",
    "import requests\n",
    "import io\n",
    "from multiprocessing.pool import ThreadPool as Pool\n",
    "import xarray as xr\n",
    "import fetch_online_des_waves"
   ]
  },
  {
   "cell_type": "markdown",
   "metadata": {},
   "source": [
    "Generate a list of model run urls"
   ]
  },
  {
   "cell_type": "code",
   "execution_count": 2,
   "metadata": {},
   "outputs": [
    {
     "data": {
      "text/plain": [
       "['http://nomads.ncep.noaa.gov:9090/dods/wave/mww3/20190128/multi_1.glo_30mext20190128_00z',\n",
       " 'http://nomads.ncep.noaa.gov:9090/dods/wave/mww3/20190128/multi_1.glo_30mext20190128_06z',\n",
       " 'http://nomads.ncep.noaa.gov:9090/dods/wave/mww3/20190128/multi_1.glo_30mext20190128_12z',\n",
       " 'http://nomads.ncep.noaa.gov:9090/dods/wave/mww3/20190128/multi_1.glo_30mext20190128_18z']"
      ]
     },
     "execution_count": 2,
     "metadata": {},
     "output_type": "execute_result"
    }
   ],
   "source": [
    "def build_urls():\n",
    "    prevdate = dt.datetime.strftime(dt.datetime.utcnow() - dt.timedelta(days=1), \"%Y%m%d\")\n",
    "    date = dt.datetime.strftime(dt.datetime.utcnow(), \"%Y%m%d\")\n",
    "    baseurl = 'http://nomads.ncep.noaa.gov:9090/dods/wave/mww3/'\n",
    "    runs = ['00','06','12','18']\n",
    "    name = \"\"\"/multi_1.glo_30mext\"\"\"\n",
    "    \n",
    "    yesterdays = []\n",
    "    todays = []\n",
    "    for t in runs:\n",
    "        if (dt.datetime.utcnow().hour - 6) > int(t):\n",
    "            todays.append(t)\n",
    "        else:\n",
    "            yesterdays.append(t)\n",
    "    \n",
    "    urls = []\n",
    "    for r in yesterdays:\n",
    "        urls.append(baseurl+prevdate+name+prevdate+'_'+str(r)+'z')\n",
    "    for r in todays:\n",
    "        urls.append(baseurl+date+name+date+'_'+str(r)+'z')\n",
    "    return urls\n",
    "build_urls()"
   ]
  },
  {
   "cell_type": "code",
   "execution_count": 3,
   "metadata": {},
   "outputs": [],
   "source": [
    "def get_location():\n",
    "    datadf = fetch_online_des_waves.get_waves()\n",
    "    sites = list(datadf.Site.unique())\n",
    "    lats = []\n",
    "    longs = []\n",
    "    site = []\n",
    "    for i in sites:\n",
    "        if str(datadf['Longitude'][datadf['Site'] == i][-1]) == '-99.9':\n",
    "            continue\n",
    "        if str(datadf['Latitude'][datadf['Site'] == i][-1]) == '-99.9':\n",
    "            continue\n",
    "        longs.append(str(datadf['Longitude'][datadf['Site'] == i][-1]))\n",
    "        lats.append(str(datadf['Latitude'][datadf['Site'] == i][-1]))\n",
    "        site.append(i)\n",
    "    coords = list(zip(lats, longs, site))\n",
    "    return coords\n"
   ]
  },
  {
   "cell_type": "code",
   "execution_count": 4,
   "metadata": {},
   "outputs": [],
   "source": [
    "def get_data(url):\n",
    "    \"\"\"takes in a url and returns the data from the NOAA Multgrid wave model for each wave buoy location\n",
    "    \"\"\"\n",
    "    dataset = xr.open_dataset(url)\n",
    "    locs = get_location()\n",
    "    dataframes = []\n",
    "    for loc in locs:\n",
    "        sitedata = dataset.sel(lon=float(loc[1]), lat=float(loc[0]), method='nearest')\n",
    "        df = sitedata.htsgwsfc.to_dataframe()\n",
    "        df['perpwsfc'] = sitedata.perpwsfc.data\n",
    "        df['dirpwsfc'] = sitedata.dirpwsfc.data\n",
    "        df['site'] = loc[-1]\n",
    "        dataframes.append(df)\n",
    "    data = pd.concat(dataframes)\n",
    "    return data\n"
   ]
  },
  {
   "cell_type": "code",
   "execution_count": 5,
   "metadata": {},
   "outputs": [],
   "source": [
    "def main():\n",
    "    pool = Pool(4) # or whatever your hardware can support\n",
    "    urls = build_urls()\n",
    "    dfs = pool.map(get_data,  urls)\n",
    "    data = pd.concat(dfs)\n",
    "    return data"
   ]
  },
  {
   "cell_type": "code",
   "execution_count": null,
   "metadata": {},
   "outputs": [],
   "source": []
  }
 ],
 "metadata": {
  "kernelspec": {
   "display_name": "Python 3",
   "language": "python",
   "name": "python3"
  },
  "language_info": {
   "codemirror_mode": {
    "name": "ipython",
    "version": 3
   },
   "file_extension": ".py",
   "mimetype": "text/x-python",
   "name": "python",
   "nbconvert_exporter": "python",
   "pygments_lexer": "ipython3",
   "version": "3.6.6"
  }
 },
 "nbformat": 4,
 "nbformat_minor": 2
}
