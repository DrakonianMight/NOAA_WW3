{
 "cells": [
  {
   "cell_type": "markdown",
   "metadata": {},
   "source": [
    "# Script to download NOAA wave model data"
   ]
  },
  {
   "cell_type": "markdown",
   "metadata": {},
   "source": [
    "**Date:** 25-01-2019\n",
    "\n",
    "**Purpose:** Downloads NOAA model data for wave buoy locations"
   ]
  },
  {
   "cell_type": "code",
   "execution_count": 1,
   "metadata": {},
   "outputs": [],
   "source": [
    "import pandas as pd\n",
    "import numpy as np\n",
    "import datetime as dt\n",
    "import requests\n",
    "import io\n",
    "from multiprocessing.pool import ThreadPool as Pool\n",
    "import xarray as xr\n",
    "import fetch_online_des_waves"
   ]
  },
  {
   "cell_type": "markdown",
   "metadata": {},
   "source": [
    "Generate a list of model run urls"
   ]
  },
  {
   "cell_type": "code",
   "execution_count": 2,
   "metadata": {},
   "outputs": [
    {
     "data": {
      "text/plain": [
       "['http://nomads.ncep.noaa.gov:9090/dods/wave/mww3/20190128/multi_1.glo_30mext20190128_00z',\n",
       " 'http://nomads.ncep.noaa.gov:9090/dods/wave/mww3/20190128/multi_1.glo_30mext20190128_06z',\n",
       " 'http://nomads.ncep.noaa.gov:9090/dods/wave/mww3/20190128/multi_1.glo_30mext20190128_12z',\n",
       " 'http://nomads.ncep.noaa.gov:9090/dods/wave/mww3/20190128/multi_1.glo_30mext20190128_18z']"
      ]
     },
     "execution_count": 2,
     "metadata": {},
     "output_type": "execute_result"
    }
   ],
   "source": [
    "def build_urls():\n",
    "    prevdate = dt.datetime.strftime(dt.datetime.utcnow() - dt.timedelta(days=1), \"%Y%m%d\")\n",
    "    date = dt.datetime.strftime(dt.datetime.utcnow(), \"%Y%m%d\")\n",
    "    baseurl = 'http://nomads.ncep.noaa.gov:9090/dods/wave/mww3/'\n",
    "    runs = ['00','06','12','18']\n",
    "    name = \"\"\"/multi_1.glo_30mext\"\"\"\n",
    "    \n",
    "    yesterdays = []\n",
    "    todays = []\n",
    "    for t in runs:\n",
    "        if (dt.datetime.utcnow().hour - 6) > int(t):\n",
    "            todays.append(t)\n",
    "        else:\n",
    "            yesterdays.append(t)\n",
    "    \n",
    "    urls = []\n",
    "    for r in yesterdays:\n",
    "        urls.append(baseurl+prevdate+name+prevdate+'_'+str(r)+'z')\n",
    "    for r in todays:\n",
    "        urls.append(baseurl+date+name+date+'_'+str(r)+'z')\n",
    "    return urls\n",
    "build_urls()"
   ]
  },
  {
   "cell_type": "code",
   "execution_count": 4,
   "metadata": {},
   "outputs": [],
   "source": [
    "def get_location():\n",
    "    datadf = fetch_online_des_waves.get_waves()\n",
    "    sites = list(datadf.Site.unique())\n",
    "    lats = []\n",
    "    longs = []\n",
    "    site = []\n",
    "    for i in sites:\n",
    "        if str(datadf['Longitude'][datadf['Site'] == i][-1]) == '-99.9':\n",
    "            continue\n",
    "        if str(datadf['Latitude'][datadf['Site'] == i][-1]) == '-99.9':\n",
    "            continue\n",
    "        longs.append(str(datadf['Longitude'][datadf['Site'] == i][-1]))\n",
    "        lats.append(str(datadf['Latitude'][datadf['Site'] == i][-1]))\n",
    "        site.append(i)\n",
    "    coords = list(zip(lats, longs, site))\n",
    "    return coords\n"
   ]
  },
  {
   "cell_type": "code",
   "execution_count": 5,
   "metadata": {},
   "outputs": [
    {
     "ename": "TypeError",
     "evalue": "expected str, bytes or os.PathLike object, not list",
     "output_type": "error",
     "traceback": [
      "\u001b[1;31m---------------------------------------------------------------------------\u001b[0m",
      "\u001b[1;31mTypeError\u001b[0m                                 Traceback (most recent call last)",
      "\u001b[1;32m<ipython-input-5-6c3b16c4fd33>\u001b[0m in \u001b[0;36m<module>\u001b[1;34m\u001b[0m\n\u001b[0;32m     14\u001b[0m     \u001b[0mdata\u001b[0m \u001b[1;33m=\u001b[0m \u001b[0mpd\u001b[0m\u001b[1;33m.\u001b[0m\u001b[0mconcat\u001b[0m\u001b[1;33m(\u001b[0m\u001b[0mdataframes\u001b[0m\u001b[1;33m)\u001b[0m\u001b[1;33m\u001b[0m\u001b[1;33m\u001b[0m\u001b[0m\n\u001b[0;32m     15\u001b[0m     \u001b[1;32mreturn\u001b[0m \u001b[0mdata\u001b[0m\u001b[1;33m\u001b[0m\u001b[1;33m\u001b[0m\u001b[0m\n\u001b[1;32m---> 16\u001b[1;33m \u001b[0mget_data\u001b[0m\u001b[1;33m(\u001b[0m\u001b[0mbuild_urls\u001b[0m\u001b[1;33m(\u001b[0m\u001b[1;33m)\u001b[0m\u001b[1;33m)\u001b[0m\u001b[1;33m\u001b[0m\u001b[1;33m\u001b[0m\u001b[0m\n\u001b[0m",
      "\u001b[1;32m<ipython-input-5-6c3b16c4fd33>\u001b[0m in \u001b[0;36mget_data\u001b[1;34m(url)\u001b[0m\n\u001b[0;32m      2\u001b[0m     \"\"\"takes in a url and returns the data from the NOAA Multgrid wave model for each wave buoy location\n\u001b[0;32m      3\u001b[0m     \"\"\"\n\u001b[1;32m----> 4\u001b[1;33m     \u001b[0mdataset\u001b[0m \u001b[1;33m=\u001b[0m \u001b[0mxr\u001b[0m\u001b[1;33m.\u001b[0m\u001b[0mopen_dataset\u001b[0m\u001b[1;33m(\u001b[0m\u001b[0murl\u001b[0m\u001b[1;33m)\u001b[0m\u001b[1;33m\u001b[0m\u001b[1;33m\u001b[0m\u001b[0m\n\u001b[0m\u001b[0;32m      5\u001b[0m     \u001b[0mlocs\u001b[0m \u001b[1;33m=\u001b[0m \u001b[0mget_location\u001b[0m\u001b[1;33m(\u001b[0m\u001b[1;33m)\u001b[0m\u001b[1;33m\u001b[0m\u001b[1;33m\u001b[0m\u001b[0m\n\u001b[0;32m      6\u001b[0m     \u001b[0mdataframes\u001b[0m \u001b[1;33m=\u001b[0m \u001b[1;33m[\u001b[0m\u001b[1;33m]\u001b[0m\u001b[1;33m\u001b[0m\u001b[1;33m\u001b[0m\u001b[0m\n",
      "\u001b[1;32m~\\Anaconda3\\envs\\mlenv\\lib\\site-packages\\xarray\\backends\\api.py\u001b[0m in \u001b[0;36mopen_dataset\u001b[1;34m(filename_or_obj, group, decode_cf, mask_and_scale, decode_times, autoclose, concat_characters, decode_coords, engine, chunks, lock, cache, drop_variables, backend_kwargs)\u001b[0m\n\u001b[0;32m    347\u001b[0m                              \"default engine or engine='scipy'\")\n\u001b[0;32m    348\u001b[0m         \u001b[1;31m# assume filename_or_obj is a file-like object\u001b[0m\u001b[1;33m\u001b[0m\u001b[1;33m\u001b[0m\u001b[1;33m\u001b[0m\u001b[0m\n\u001b[1;32m--> 349\u001b[1;33m         \u001b[0mstore\u001b[0m \u001b[1;33m=\u001b[0m \u001b[0mbackends\u001b[0m\u001b[1;33m.\u001b[0m\u001b[0mScipyDataStore\u001b[0m\u001b[1;33m(\u001b[0m\u001b[0mfilename_or_obj\u001b[0m\u001b[1;33m)\u001b[0m\u001b[1;33m\u001b[0m\u001b[1;33m\u001b[0m\u001b[0m\n\u001b[0m\u001b[0;32m    350\u001b[0m \u001b[1;33m\u001b[0m\u001b[0m\n\u001b[0;32m    351\u001b[0m     \u001b[1;32mreturn\u001b[0m \u001b[0mmaybe_decode_store\u001b[0m\u001b[1;33m(\u001b[0m\u001b[0mstore\u001b[0m\u001b[1;33m)\u001b[0m\u001b[1;33m\u001b[0m\u001b[1;33m\u001b[0m\u001b[0m\n",
      "\u001b[1;32m~\\Anaconda3\\envs\\mlenv\\lib\\site-packages\\xarray\\backends\\scipy_.py\u001b[0m in \u001b[0;36m__init__\u001b[1;34m(self, filename_or_obj, mode, format, group, mmap, lock)\u001b[0m\n\u001b[0;32m    147\u001b[0m         \u001b[1;32melse\u001b[0m\u001b[1;33m:\u001b[0m\u001b[1;33m\u001b[0m\u001b[1;33m\u001b[0m\u001b[0m\n\u001b[0;32m    148\u001b[0m             scipy_dataset = _open_scipy_netcdf(\n\u001b[1;32m--> 149\u001b[1;33m                 filename_or_obj, mode=mode, mmap=mmap, version=version)\n\u001b[0m\u001b[0;32m    150\u001b[0m             \u001b[0mmanager\u001b[0m \u001b[1;33m=\u001b[0m \u001b[0mDummyFileManager\u001b[0m\u001b[1;33m(\u001b[0m\u001b[0mscipy_dataset\u001b[0m\u001b[1;33m)\u001b[0m\u001b[1;33m\u001b[0m\u001b[1;33m\u001b[0m\u001b[0m\n\u001b[0;32m    151\u001b[0m \u001b[1;33m\u001b[0m\u001b[0m\n",
      "\u001b[1;32m~\\Anaconda3\\envs\\mlenv\\lib\\site-packages\\xarray\\backends\\scipy_.py\u001b[0m in \u001b[0;36m_open_scipy_netcdf\u001b[1;34m(filename, mode, mmap, version)\u001b[0m\n\u001b[0;32m     87\u001b[0m     \u001b[1;32mtry\u001b[0m\u001b[1;33m:\u001b[0m\u001b[1;33m\u001b[0m\u001b[1;33m\u001b[0m\u001b[0m\n\u001b[0;32m     88\u001b[0m         return scipy.io.netcdf_file(filename, mode=mode, mmap=mmap,\n\u001b[1;32m---> 89\u001b[1;33m                                     version=version)\n\u001b[0m\u001b[0;32m     90\u001b[0m     \u001b[1;32mexcept\u001b[0m \u001b[0mTypeError\u001b[0m \u001b[1;32mas\u001b[0m \u001b[0me\u001b[0m\u001b[1;33m:\u001b[0m  \u001b[1;31m# netcdf3 message is obscure in this case\u001b[0m\u001b[1;33m\u001b[0m\u001b[1;33m\u001b[0m\u001b[0m\n\u001b[0;32m     91\u001b[0m         \u001b[0merrmsg\u001b[0m \u001b[1;33m=\u001b[0m \u001b[0me\u001b[0m\u001b[1;33m.\u001b[0m\u001b[0margs\u001b[0m\u001b[1;33m[\u001b[0m\u001b[1;36m0\u001b[0m\u001b[1;33m]\u001b[0m\u001b[1;33m\u001b[0m\u001b[1;33m\u001b[0m\u001b[0m\n",
      "\u001b[1;32m~\\Anaconda3\\envs\\mlenv\\lib\\site-packages\\scipy\\io\\netcdf.py\u001b[0m in \u001b[0;36m__init__\u001b[1;34m(self, filename, mode, mmap, version, maskandscale)\u001b[0m\n\u001b[0;32m    250\u001b[0m             \u001b[0mself\u001b[0m\u001b[1;33m.\u001b[0m\u001b[0mfilename\u001b[0m \u001b[1;33m=\u001b[0m \u001b[0mfilename\u001b[0m\u001b[1;33m\u001b[0m\u001b[1;33m\u001b[0m\u001b[0m\n\u001b[0;32m    251\u001b[0m             \u001b[0momode\u001b[0m \u001b[1;33m=\u001b[0m \u001b[1;34m'r+'\u001b[0m \u001b[1;32mif\u001b[0m \u001b[0mmode\u001b[0m \u001b[1;33m==\u001b[0m \u001b[1;34m'a'\u001b[0m \u001b[1;32melse\u001b[0m \u001b[0mmode\u001b[0m\u001b[1;33m\u001b[0m\u001b[1;33m\u001b[0m\u001b[0m\n\u001b[1;32m--> 252\u001b[1;33m             \u001b[0mself\u001b[0m\u001b[1;33m.\u001b[0m\u001b[0mfp\u001b[0m \u001b[1;33m=\u001b[0m \u001b[0mopen\u001b[0m\u001b[1;33m(\u001b[0m\u001b[0mself\u001b[0m\u001b[1;33m.\u001b[0m\u001b[0mfilename\u001b[0m\u001b[1;33m,\u001b[0m \u001b[1;34m'%sb'\u001b[0m \u001b[1;33m%\u001b[0m \u001b[0momode\u001b[0m\u001b[1;33m)\u001b[0m\u001b[1;33m\u001b[0m\u001b[1;33m\u001b[0m\u001b[0m\n\u001b[0m\u001b[0;32m    253\u001b[0m             \u001b[1;32mif\u001b[0m \u001b[0mmmap\u001b[0m \u001b[1;32mis\u001b[0m \u001b[1;32mNone\u001b[0m\u001b[1;33m:\u001b[0m\u001b[1;33m\u001b[0m\u001b[1;33m\u001b[0m\u001b[0m\n\u001b[0;32m    254\u001b[0m                 \u001b[1;31m# Mmapped files on PyPy cannot be usually closed\u001b[0m\u001b[1;33m\u001b[0m\u001b[1;33m\u001b[0m\u001b[1;33m\u001b[0m\u001b[0m\n",
      "\u001b[1;31mTypeError\u001b[0m: expected str, bytes or os.PathLike object, not list"
     ]
    }
   ],
   "source": [
    "def get_data(url):\n",
    "    \"\"\"takes in a url and returns the data from the NOAA Multgrid wave model for each wave buoy location\n",
    "    \"\"\"\n",
    "    dataset = xr.open_dataset(url)\n",
    "    locs = get_location()\n",
    "    dataframes = []\n",
    "    for loc in locs[0]:\n",
    "        sitedata = dataset.sel(lon=float(loc[1]), lat=float(loc[0]), method='nearest')\n",
    "        df = sitedata.htsgwsfc.to_dataframe()\n",
    "        df['perpwsfc'] = sitedata.perpwsfc.data\n",
    "        df['dirpwsfc'] = sitedata.dirpwsfc.data\n",
    "        df['site'] = loc[-1]\n",
    "        df.index = df.index + pd.Timedelta(hours = 10)\n",
    "        dataframes.append(df)\n",
    "    data = pd.concat(dataframes)\n",
    "    return data\n",
    "get_data(build_urls())"
   ]
  },
  {
   "cell_type": "code",
   "execution_count": 5,
   "metadata": {},
   "outputs": [],
   "source": [
    "def main():\n",
    "    pool = Pool(4) # or whatever your hardware can support\n",
    "    urls = build_urls()\n",
    "    dfs = pool.map(get_data,  urls)\n",
    "    data = pd.concat(dfs)\n",
    "    return data"
   ]
  },
  {
   "cell_type": "code",
   "execution_count": null,
   "metadata": {},
   "outputs": [],
   "source": []
  }
 ],
 "metadata": {
  "kernelspec": {
   "display_name": "Python 3",
   "language": "python",
   "name": "python3"
  },
  "language_info": {
   "codemirror_mode": {
    "name": "ipython",
    "version": 3
   },
   "file_extension": ".py",
   "mimetype": "text/x-python",
   "name": "python",
   "nbconvert_exporter": "python",
   "pygments_lexer": "ipython3",
   "version": "3.6.7"
  }
 },
 "nbformat": 4,
 "nbformat_minor": 2
}
