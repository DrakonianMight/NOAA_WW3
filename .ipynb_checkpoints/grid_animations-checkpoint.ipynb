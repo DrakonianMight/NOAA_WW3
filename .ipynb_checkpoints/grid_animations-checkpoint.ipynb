{
 "cells": [
  {
   "cell_type": "markdown",
   "metadata": {},
   "source": [
    "# WW3 model animation"
   ]
  },
  {
   "cell_type": "markdown",
   "metadata": {},
   "source": [
    "**Purpose:** To create series of animations for the NOAA WW3 model over time.\n",
    "\n",
    "**Creator:** Leo Peach\n",
    "\n",
    "**Created:** 10/02/2019"
   ]
  },
  {
   "cell_type": "code",
   "execution_count": 4,
   "metadata": {},
   "outputs": [],
   "source": [
    "#an issue with basemap\n",
    "#import os\n",
    "#os.environ['PROJ_LIB'] = '/home/leo/anaconda3/envs/mlenv/share/proj'"
   ]
  },
  {
   "cell_type": "code",
   "execution_count": 93,
   "metadata": {},
   "outputs": [],
   "source": [
    "import numpy as np\n",
    "import netCDF4\n",
    "import matplotlib.pyplot as plt\n",
    "#from mpl_toolkits.basemap import Basemap\n",
    "import matplotlib.animation as animation\n",
    "import datetime\n",
    "import os\n",
    "import io\n",
    "from PIL import Image\n",
    "import collections\n",
    "import requests\n",
    "import fetch_multigrid\n",
    "import xarray as xr\n",
    "import collections"
   ]
  },
  {
   "cell_type": "code",
   "execution_count": 104,
   "metadata": {},
   "outputs": [],
   "source": [
    "locs = collections.OrderedDict()\n",
    "#ordered dict of leftsidelon, rightsidelon, upperlat, lowerlat\n",
    "locs['AU'] = [105, 160, -8, -46]\n",
    "locs['QLD'] = [130,160,-8,-26]\n",
    "locs['NSW'] = [145,158,-26,-38]\n",
    "locs['WA'] = [113,129,-12,-36]\n",
    "locs['TAS'] = [135,151,-36,-49]\n",
    "locs['SA'] = [115,142,-30,-39]\n",
    "locs['NT'] = [127,142,-9.5,-18]"
   ]
  },
  {
   "cell_type": "code",
   "execution_count": 105,
   "metadata": {},
   "outputs": [],
   "source": [
    "def aus_anim_hm0(ds,loc):\n",
    "    \"\"\"takes in an NOAA xarray object and creates an animation for Australia of Hs (HM0)\"\"\"\n",
    "    \n",
    "    \n",
    "    # Get some parameters for the Stereographic Projection\n",
    "    #Coords for centre of Australia\n",
    "    lon_0 = 134 \n",
    "    lat_0 = -23    \n",
    "\n",
    "    fig, axes = plt.subplots(figsize=(10,8))\n",
    "    \n",
    "    maps = []\n",
    "    for timestep in range(len(ds.time.data[0:10])):\n",
    "        x = ds.lon.data\n",
    "        y = ds.lat.data\n",
    "        measurement_grid = ds.htsgwsfc.isel(time=timestep)\n",
    "\n",
    "        fig = plt.figure(figsize=(10,8))\n",
    "\n",
    "        ax = fig.add_subplot(1, 1, 1, projection=ccrs.PlateCarree())\n",
    "        ax.set_extent(loc, crs=ccrs.PlateCarree())\n",
    "        colormesh  = ax.pcolormesh(ds.lon.data,ds.lat.data,ds.htsgwsfc.isel(time = timestep),cmap = 'rainbow',transform=ccrs.PlateCarree())\n",
    "        colormesh.set_clim(vmin = 0, vmax = 5)\n",
    "        cbar = plt.colorbar(colormesh, cmap = 'rainbow',label='Hm0 (m)',fraction=0.03, pad=0.04)\n",
    "        \n",
    "        #add boundaries\n",
    "        import cartopy.feature as cfeature\n",
    "        # Put a background image on for nice sea rendering.\n",
    "        ax.stock_img()\n",
    "\n",
    "        # Create a feature for States/Admin 1 regions at 1:50m from Natural Earth\n",
    "        states_provinces = cfeature.NaturalEarthFeature(\n",
    "            category='cultural',\n",
    "            name='admin_1_states_provinces_lines',\n",
    "            scale='50m',\n",
    "            facecolor='none')\n",
    "        \n",
    "        ax.add_feature(cfeature.LAND)\n",
    "        ax.add_feature(cfeature.COASTLINE)\n",
    "        ax.add_feature(states_provinces, edgecolor='gray')\n",
    "        plt.title('time: '+ str(ds.time[timestep].data)[:-7]+'z')\n",
    "        buf = io.BytesIO()\n",
    "        plt.savefig(buf, format='png')\n",
    "        maps.append(Image.open(buf))\n",
    "    \n",
    "    #generate gif animation\n",
    "    gif = io.BytesIO()\n",
    "    maps[0].save(gif, format = 'gif', save_all=True, append_images=maps[1:], duration =1000, loop=0)\n",
    "    gif.seek(0)\n",
    "    import base64\n",
    "    data_uri = base64.b64encode(gif.read()).decode('ascii')\n",
    "    return data_uri"
   ]
  },
  {
   "cell_type": "code",
   "execution_count": 109,
   "metadata": {},
   "outputs": [],
   "source": [
    "def aus_anim_t02(ds,loc):\n",
    "    \"\"\"takes in an NOAA xarray object and creates an animation for Australia of Hs (HM0)\"\"\"\n",
    "    \n",
    "    \n",
    "    # Get some parameters for the Stereographic Projection\n",
    "    #Coords for centre of Australia\n",
    "    lon_0 = 134 \n",
    "    lat_0 = -23    \n",
    "\n",
    "    fig, axes = plt.subplots(figsize=(10,8))\n",
    "    \n",
    "    maps = []\n",
    "    for timestep in range(len(ds.time.data[0:10])):\n",
    "        x = ds.lon.data\n",
    "        y = ds.lat.data\n",
    "        measurement_grid = ds.perpwsfc.isel(time=timestep)\n",
    "\n",
    "        fig = plt.figure(figsize=(10,8))\n",
    "\n",
    "        ax = fig.add_subplot(1, 1, 1, projection=ccrs.PlateCarree())\n",
    "        ax.set_extent(loc, crs=ccrs.PlateCarree())\n",
    "        colormesh  = ax.pcolormesh(ds.lon.data,ds.lat.data,ds.perpwsfc.isel(time = timestep),cmap = 'rainbow',transform=ccrs.PlateCarree())\n",
    "        colormesh.set_clim(vmin = 0, vmax = 25)\n",
    "        cbar = plt.colorbar(colormesh, cmap = 'rainbow',label='T02 (seconds)',fraction=0.03, pad=0.04)\n",
    "        \n",
    "        #add boundaries\n",
    "        import cartopy.feature as cfeature\n",
    "        # Put a background image on for nice sea rendering.\n",
    "        ax.stock_img()\n",
    "\n",
    "        # Create a feature for States/Admin 1 regions at 1:50m from Natural Earth\n",
    "        states_provinces = cfeature.NaturalEarthFeature(\n",
    "            category='cultural',\n",
    "            name='admin_1_states_provinces_lines',\n",
    "            scale='50m',\n",
    "            facecolor='none')\n",
    "        \n",
    "        ax.add_feature(cfeature.LAND)\n",
    "        ax.add_feature(cfeature.COASTLINE)\n",
    "        ax.add_feature(states_provinces, edgecolor='gray')\n",
    "        plt.title('time: '+ str(ds.time[timestep].data)[:-7]+'z')\n",
    "        buf = io.BytesIO()\n",
    "        plt.savefig(buf, format='png')\n",
    "        maps.append(Image.open(buf))\n",
    "    \n",
    "    #generate gif animation\n",
    "    gif = io.BytesIO()\n",
    "    maps[0].save(gif, format = 'gif', save_all=True, append_images=maps[1:], duration =1000, loop=0)\n",
    "    gif.seek(0)\n",
    "    import base64\n",
    "    data_uri = base64.b64encode(gif.read()).decode('ascii')\n",
    "    return data_uri"
   ]
  },
  {
   "cell_type": "code",
   "execution_count": null,
   "metadata": {},
   "outputs": [
    {
     "name": "stdout",
     "output_type": "stream",
     "text": [
      "Building file\n"
     ]
    },
    {
     "name": "stderr",
     "output_type": "stream",
     "text": [
      "/home/leo/anaconda3/envs/mlenv/lib/python3.6/site-packages/matplotlib/pyplot.py:514: RuntimeWarning: More than 20 figures have been opened. Figures created through the pyplot interface (`matplotlib.pyplot.figure`) are retained until explicitly closed and may consume too much memory. (To control this warning, see the rcParam `figure.max_open_warning`).\n",
      "  max_open_warning, RuntimeWarning)\n"
     ]
    }
   ],
   "source": [
    "def main(locs):\n",
    "    \n",
    "    dataset = xr.open_dataset(fetch_multigrid.build_urls()[-1])\n",
    "    print('Building file')\n",
    "    name = 'NOAA Forecast Wave Height Animations.html'\n",
    "    html = open(name, 'w')\n",
    "    html.write(\"<head><title>Forecast Data Loops</title></head>\\n\")\n",
    "    html.write(\"<h1>Forecast Data Loops</h1>\\n\")\n",
    "    html.write(\"<p>Forecasting loops from the NOAA WW3 model &copy; NOAA</p>\\n\")\n",
    "    for k, v in locs.items():\n",
    "        \n",
    "        html.write(\"<h3>\"+k+\"</h3>\\n\")\n",
    "        html.write('<img src=\"data:image/png;base64,{0}\">'.format(aus_anim_hm0(dataset, v)))\n",
    "        html.write('<img src=\"data:image/png;base64,{0}\">'.format(aus_anim_t02(dataset, v)))\n",
    "    \n",
    "    html.write(\"<br></br>\\n\")\n",
    "    html.write(\"</body>\")\n",
    "    html.close()\n",
    "    print('complete')\n",
    "    return\n",
    "main(locs)"
   ]
  },
  {
   "cell_type": "code",
   "execution_count": null,
   "metadata": {},
   "outputs": [],
   "source": [
    "if __name__ == '__main__':\n",
    "    main()"
   ]
  }
 ],
 "metadata": {
  "kernelspec": {
   "display_name": "Python 3",
   "language": "python",
   "name": "python3"
  },
  "language_info": {
   "codemirror_mode": {
    "name": "ipython",
    "version": 3
   },
   "file_extension": ".py",
   "mimetype": "text/x-python",
   "name": "python",
   "nbconvert_exporter": "python",
   "pygments_lexer": "ipython3",
   "version": "3.6.8"
  }
 },
 "nbformat": 4,
 "nbformat_minor": 2
}
