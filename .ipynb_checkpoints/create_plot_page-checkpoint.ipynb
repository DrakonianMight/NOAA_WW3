{
 "cells": [
  {
   "cell_type": "markdown",
   "metadata": {},
   "source": [
    "# Create page with WW3 and monitoring data"
   ]
  },
  {
   "cell_type": "markdown",
   "metadata": {},
   "source": [
    "**Purpose:** Plots WW3 forecast data for locations where wave buoys are located with wave buoy data.\n",
    "\n",
    "**Creator:** Leo Peach\n",
    "\n",
    "**Created:** 26-01-2019"
   ]
  },
  {
   "cell_type": "code",
   "execution_count": 1,
   "metadata": {},
   "outputs": [],
   "source": [
    "import datetime\n",
    "import numpy as np\n",
    "import pandas as pd\n",
    "import numpy as np\n",
    "#plotting libraries\n",
    "from bokeh.plotting import figure, output_file, show\n",
    "from bokeh.models import ColumnDataSource, Span\n",
    "from bokeh.models.tools import HoverTool\n",
    "#fetch data libraries\n",
    "import fetch_online_des_waves\n",
    "import fetch_multigrid"
   ]
  },
  {
   "cell_type": "code",
   "execution_count": 2,
   "metadata": {},
   "outputs": [],
   "source": [
    "def get_data():\n",
    "    \n",
    "    wb_data = fetch_online_des_waves.get_waves()\n",
    "    ww3_data = fetch_multigrid.main()\n",
    "    # sites with available data\n",
    "    ww3_data[0].dropna(inplace = True)\n",
    "    sites = ww3_data[0].site.unique()\n",
    "    print(sites)\n",
    "    site_data = []\n",
    "    for i in sites:\n",
    "        mdata = wb_data.loc[wb_data['Site'] == i]\n",
    "        data = [mdata]\n",
    "        for run in ww3_data:\n",
    "            run.dropna(inplace = True)\n",
    "            fdata = run.loc[run['site'] == i]\n",
    "            data.append(fdata)\n",
    "        site_data.append(data)\n",
    "    return site_data\n",
    "    "
   ]
  },
  {
   "cell_type": "code",
   "execution_count": 3,
   "metadata": {},
   "outputs": [],
   "source": [
    "wb_data = fetch_online_des_waves.get_waves()"
   ]
  },
  {
   "cell_type": "code",
   "execution_count": 4,
   "metadata": {},
   "outputs": [],
   "source": [
    "ww3_data = fetch_multigrid.main()"
   ]
  },
  {
   "cell_type": "code",
   "execution_count": 5,
   "metadata": {},
   "outputs": [],
   "source": [
    "ww3_data[0].dropna(inplace = True)\n",
    "sites = ww3_data[0].site.unique()"
   ]
  },
  {
   "cell_type": "code",
   "execution_count": 6,
   "metadata": {},
   "outputs": [],
   "source": [
    "site_data = []\n",
    "for i in sites:\n",
    "    mdata = wb_data.loc[wb_data['Site'] == i]\n",
    "    data = [mdata]\n",
    "    for run in ww3_data:\n",
    "        run.dropna(inplace = True)\n",
    "        fdata = run.loc[run['site'] == i]\n",
    "        data.append(fdata)\n",
    "    site_data.append(data)"
   ]
  },
  {
   "cell_type": "code",
   "execution_count": 7,
   "metadata": {},
   "outputs": [
    {
     "data": {
      "text/html": [
       "<div>\n",
       "<style scoped>\n",
       "    .dataframe tbody tr th:only-of-type {\n",
       "        vertical-align: middle;\n",
       "    }\n",
       "\n",
       "    .dataframe tbody tr th {\n",
       "        vertical-align: top;\n",
       "    }\n",
       "\n",
       "    .dataframe thead th {\n",
       "        text-align: right;\n",
       "    }\n",
       "</style>\n",
       "<table border=\"1\" class=\"dataframe\">\n",
       "  <thead>\n",
       "    <tr style=\"text-align: right;\">\n",
       "      <th></th>\n",
       "      <th>lat</th>\n",
       "      <th>lon</th>\n",
       "      <th>htsgwsfc</th>\n",
       "      <th>perpwsfc</th>\n",
       "      <th>dirpwsfc</th>\n",
       "      <th>site</th>\n",
       "    </tr>\n",
       "    <tr>\n",
       "      <th>time</th>\n",
       "      <th></th>\n",
       "      <th></th>\n",
       "      <th></th>\n",
       "      <th></th>\n",
       "      <th></th>\n",
       "      <th></th>\n",
       "    </tr>\n",
       "  </thead>\n",
       "  <tbody>\n",
       "    <tr>\n",
       "      <th>2019-01-27 00:00:00</th>\n",
       "      <td>-28.0</td>\n",
       "      <td>153.5</td>\n",
       "      <td>0.93</td>\n",
       "      <td>6.07</td>\n",
       "      <td>67.250000</td>\n",
       "      <td>Tweed Heads</td>\n",
       "    </tr>\n",
       "    <tr>\n",
       "      <th>2019-01-27 03:00:00</th>\n",
       "      <td>-28.0</td>\n",
       "      <td>153.5</td>\n",
       "      <td>0.96</td>\n",
       "      <td>6.31</td>\n",
       "      <td>70.729996</td>\n",
       "      <td>Tweed Heads</td>\n",
       "    </tr>\n",
       "    <tr>\n",
       "      <th>2019-01-27 06:00:00</th>\n",
       "      <td>-28.0</td>\n",
       "      <td>153.5</td>\n",
       "      <td>0.99</td>\n",
       "      <td>6.43</td>\n",
       "      <td>70.110001</td>\n",
       "      <td>Tweed Heads</td>\n",
       "    </tr>\n",
       "    <tr>\n",
       "      <th>2019-01-27 09:00:00</th>\n",
       "      <td>-28.0</td>\n",
       "      <td>153.5</td>\n",
       "      <td>1.03</td>\n",
       "      <td>6.45</td>\n",
       "      <td>69.519997</td>\n",
       "      <td>Tweed Heads</td>\n",
       "    </tr>\n",
       "    <tr>\n",
       "      <th>2019-01-27 12:00:00</th>\n",
       "      <td>-28.0</td>\n",
       "      <td>153.5</td>\n",
       "      <td>1.07</td>\n",
       "      <td>6.27</td>\n",
       "      <td>68.619995</td>\n",
       "      <td>Tweed Heads</td>\n",
       "    </tr>\n",
       "  </tbody>\n",
       "</table>\n",
       "</div>"
      ],
      "text/plain": [
       "                      lat    lon  htsgwsfc  perpwsfc   dirpwsfc         site\n",
       "time                                                                        \n",
       "2019-01-27 00:00:00 -28.0  153.5      0.93      6.07  67.250000  Tweed Heads\n",
       "2019-01-27 03:00:00 -28.0  153.5      0.96      6.31  70.729996  Tweed Heads\n",
       "2019-01-27 06:00:00 -28.0  153.5      0.99      6.43  70.110001  Tweed Heads\n",
       "2019-01-27 09:00:00 -28.0  153.5      1.03      6.45  69.519997  Tweed Heads\n",
       "2019-01-27 12:00:00 -28.0  153.5      1.07      6.27  68.619995  Tweed Heads"
      ]
     },
     "execution_count": 7,
     "metadata": {},
     "output_type": "execute_result"
    }
   ],
   "source": [
    "site_data[0][1].head()"
   ]
  },
  {
   "cell_type": "code",
   "execution_count": 9,
   "metadata": {},
   "outputs": [],
   "source": [
    "def plot_bokeh(site_data):\n",
    "    \"\"\"generate a plot object based on a list of forecasts and actuals for a location\"\"\"\n",
    "    print(site_data[0].iloc[0,1])\n",
    "    sitename = site_data[0].iloc[0,1]\n",
    "    \n",
    "    p = figure(x_axis_type=\"datetime\", plot_height = 500, plot_width = 1000, title=sitename )\n",
    "    p.sizing_mode = 'scale_width'\n",
    "    \n",
    "    for fore in site_data[0:-2]:\n",
    "        p.line(fore.index, y = fore['htsgwsfc'], line_alpha=0.25, line_dash='dashed')\n",
    "\n",
    "    plotf =p.line(x = site_data[-1].index,y = site_data[-1][0]['htsgwsfc'], color = 'blue',legend='Forecast')\n",
    "    p.add_tools(HoverTool(renderers=[plotf], tooltips=[(\"Hm0\",\"@y\")],mode='vline'))\n",
    "    plota = p.line(site_data[0].index, pd.to_numeric(site_data[0]['Hsig']), color = 'green',legend='Actual')\n",
    "    p.add_tools(HoverTool(renderers=[plota], tooltips=[(\"Hsig\",\"@y\")],mode='vline'))\n",
    "    now_line = Span(location=datetime.datetime.now(),dimension='height', line_color='red',line_dash='dashed', line_width=2)\n",
    "    p.add_layout(now_line)\n",
    "\n",
    "    \n",
    "    p.yaxis.axis_label = \"Signifcant Wave Height (m)\"\n",
    "    \n",
    "    p.legend.location = \"top_left\"\n",
    "    p.legend.click_policy=\"hide\"\n",
    "\n",
    "    from bokeh.resources import CDN\n",
    "    from bokeh.embed import file_html, components\n",
    "    #fig = file_html(p, CDN)\n",
    "    script, div = components(p)\n",
    "    show(p)\n",
    "    return (script, div)\n"
   ]
  },
  {
   "cell_type": "code",
   "execution_count": 10,
   "metadata": {},
   "outputs": [
    {
     "name": "stdout",
     "output_type": "stream",
     "text": [
      "Tweed Heads\n",
      "Gold Coast\n",
      "North Moreton Bay\n",
      "Hay Point\n",
      "Townsville\n"
     ]
    }
   ],
   "source": [
    "for site in site_data:\n",
    "    plot_bokeh(site)"
   ]
  },
  {
   "cell_type": "code",
   "execution_count": 62,
   "metadata": {},
   "outputs": [
    {
     "name": "stdout",
     "output_type": "stream",
     "text": [
      "['Tweed Heads' 'Gold Coast' 'North Moreton Bay']\n"
     ]
    }
   ],
   "source": [
    "\n",
    "site_data = get_data()\n"
   ]
  },
  {
   "cell_type": "code",
   "execution_count": 65,
   "metadata": {},
   "outputs": [
    {
     "name": "stdout",
     "output_type": "stream",
     "text": [
      "['Tweed Heads' 'Gold Coast' 'North Moreton Bay']\n",
      "Tweed Heads\n",
      "Gold Coast\n",
      "North Moreton Bay\n"
     ]
    }
   ],
   "source": [
    "def generate_report():\n",
    "    \"\"\"Takes the wb and forecast data and generates a html report based on the plots\"\"\"\n",
    "\n",
    "    plots = []\n",
    "    site_data = get_data()\n",
    "    for d in site_data:\n",
    "        plots.append(plot_bokeh(d))\n",
    "    \n",
    "    #name = 'AUSWAVE Forecast Report ' + datetime.datetime.now().strftime(\"%Y-%m-%d_%H\")+'.html'\n",
    "    name = 'NOAA_Forecast_Report_online.html'\n",
    "    html = open(name, 'w')\n",
    "    \n",
    "    begin = \"\"\"<!DOCTYPE html>\\n\n",
    "                <html lang=\"en\">\\n\n",
    "                <head>\\n\n",
    "                  <title>Wave Height Plots</title>\\n\n",
    "                  <meta charset=\"utf-8\">\\n\n",
    "              <meta name=\"viewport\" content=\"width=device-width, initial-scale=1\">\\n\n",
    "              <link rel=\"stylesheet\" href=\"https://maxcdn.bootstrapcdn.com/bootstrap/3.3.7/css/bootstrap.min.css\">\\n\n",
    "              <script src=\"https://ajax.googleapis.com/ajax/libs/jquery/3.3.1/jquery.min.js\"></script>\\n\n",
    "              <script src=\"https://maxcdn.bootstrapcdn.com/bootstrap/3.3.7/js/bootstrap.min.js\"></script>\\n\n",
    "            </head>\\n\n",
    "            <body>\\n\n",
    "                <div class=\"container\">\\n\n",
    "                  <h1>Forecast and Actual Signficant Wave Height</h1>\\n\n",
    "                  <p>Data sourced from &copy; Queensland Government and &copy; National Oceanographic and Atmospheric Administration 2019</p> \\n\n",
    "                  <p>A comparison of forecast data from the NOAA's multigrid wave model and wave monitoring stations from Queensland Government</p> \\n\n",
    "                </div>\\n\n",
    "                \n",
    "            </body>\\n\"\"\"\n",
    "    html.write(begin)\n",
    "    bokeh_setup = \"\"\"<link\n",
    "    href=\"https://cdn.pydata.org/bokeh/release/bokeh-1.0.1.min.css\"\n",
    "    rel=\"stylesheet\" type=\"text/css\">\n",
    "    <link\n",
    "    href=\"https://cdn.pydata.org/bokeh/release/bokeh-widgets-1.0.1.min.css\"\n",
    "    rel=\"stylesheet\" type=\"text/css\">\n",
    "    <link\n",
    "    href=\"https://cdn.pydata.org/bokeh/release/bokeh-tables-1.0.1.min.css\"\n",
    "    rel=\"stylesheet\" type=\"text/css\">\n",
    "\n",
    "    <script src=\"https://cdn.pydata.org/bokeh/release/bokeh-1.0.1.min.js\"></script>\n",
    "    <script src=\"https://cdn.pydata.org/bokeh/release/bokeh-widgets-1.0.1.min.js\"></script>\"\"\"\n",
    "    html.write(bokeh_setup)\n",
    "    size = \"\"\"<style type=\"text/css\">\n",
    "    .plots {\n",
    "        height: 35%;\n",
    "        width: 65%;\n",
    "        margin: auto;\n",
    "    }</style>\"\"\"\n",
    "    \n",
    "    \n",
    "    \n",
    "    for figs in plots:\n",
    "        html.write(\"<head>\\n\")\n",
    "        html.write(size + \"\\n\")\n",
    "        html.write(figs[0] + \"\\n\")\n",
    "        html.write(\"</head>\")\n",
    "        html.write(\"<body>\\n\")\n",
    "        html.write(\"\"\"\"<div class=\"plots\">\"\"\")\n",
    "        html.write(figs[-1])\n",
    "        html.write(\"</div>\")\n",
    "        html.write(\"</body>\")\n",
    "        \n",
    "    html.close()\n",
    "    return\n",
    "generate_report()"
   ]
  },
  {
   "cell_type": "code",
   "execution_count": null,
   "metadata": {},
   "outputs": [],
   "source": [
    "if __name__ == '__main__':\n",
    "    main()"
   ]
  }
 ],
 "metadata": {
  "kernelspec": {
   "display_name": "Python 3",
   "language": "python",
   "name": "python3"
  },
  "language_info": {
   "codemirror_mode": {
    "name": "ipython",
    "version": 3
   },
   "file_extension": ".py",
   "mimetype": "text/x-python",
   "name": "python",
   "nbconvert_exporter": "python",
   "pygments_lexer": "ipython3",
   "version": "3.6.6"
  }
 },
 "nbformat": 4,
 "nbformat_minor": 2
}
