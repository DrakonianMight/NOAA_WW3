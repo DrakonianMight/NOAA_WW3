{
 "cells": [
  {
   "cell_type": "markdown",
   "metadata": {},
   "source": [
    "# Creating Plots and Performance Statistics"
   ]
  },
  {
   "cell_type": "markdown",
   "metadata": {},
   "source": [
    "**Purpose:** We are looking to plot the data from the NOAA WW3 forecast for a number of locations where monitoring is taking place. The intention is to provide a tool to compare the forecast to the monitored data statistcally and visually."
   ]
  },
  {
   "cell_type": "markdown",
   "metadata": {},
   "source": [
    "**Creator:** Leo Peach\n",
    "\n",
    "**Datasets:** QLD Government wave monitoring sites and NOAA WW3 Global wave model"
   ]
  },
  {
   "cell_type": "code",
   "execution_count": 3,
   "metadata": {},
   "outputs": [],
   "source": [
    "import datetime\n",
    "import numpy as np\n",
    "import pandas as pd\n",
    "import numpy as np\n",
    "#plotting libraries\n",
    "from bokeh.plotting import figure, output_file, show\n",
    "from bokeh.models import ColumnDataSource, Span\n",
    "from bokeh.models.tools import HoverTool\n",
    "#fetch data libraries\n",
    "import fetch_online_des_waves\n",
    "import fetch_multigrid\n"
   ]
  },
  {
   "cell_type": "markdown",
   "metadata": {},
   "source": [
    "Set up a function to extract the data from the model grid"
   ]
  },
  {
   "cell_type": "code",
   "execution_count": 4,
   "metadata": {},
   "outputs": [],
   "source": [
    "def get_data():\n",
    "    \"\"\"A function that retrieced the data for the wave buoy locations from the forecast model\"\"\"\n",
    "    \n",
    "    wb_data = fetch_online_des_waves.get_waves()\n",
    "    ww3_data = fetch_multigrid.main()\n",
    "    # sites with available data\n",
    "    ww3_data[0].dropna(inplace = True)\n",
    "    sites = ww3_data[0].site.unique()\n",
    "    print(sites)\n",
    "    site_data = []\n",
    "    for i in sites:\n",
    "        mdata = wb_data.loc[wb_data['Site'] == i]\n",
    "        data = [mdata]\n",
    "        for run in ww3_data:\n",
    "            run.dropna(inplace = True)\n",
    "            fdata = run.loc[run['site'] == i]\n",
    "            data.append(fdata)\n",
    "        site_data.append(data)\n",
    "    return site_data"
   ]
  },
  {
   "cell_type": "markdown",
   "metadata": {},
   "source": [
    "Setting up plotting functions so that data can be visually inspected"
   ]
  },
  {
   "cell_type": "code",
   "execution_count": null,
   "metadata": {},
   "outputs": [],
   "source": [
    "def plot_bokeh(site_data):\n",
    "    \"\"\"generate a plot object based on a list of forecasts and actuals for a location\"\"\"\n",
    "    print(site_data[0].iloc[0,1])\n",
    "    sitename = site_data[0].iloc[0,1]\n",
    "    \n",
    "    p = figure(x_axis_type=\"datetime\", plot_height = 500, plot_width = 1000, title=sitename )\n",
    "    p.sizing_mode = 'scale_width'\n",
    "    \n",
    "    for fore in site_data[1:-1]:\n",
    "        p.line(fore.index, y = fore['htsgwsfc'], line_alpha=0.25, line_dash='dashed')\n",
    "\n",
    "    plotf =p.line(x = site_data[-1].index,y = site_data[-1]['htsgwsfc'], color = 'blue',legend='Recent Forecast')\n",
    "    p.add_tools(HoverTool(renderers=[plotf], tooltips=[(\"Hm0\",\"@y\")],mode='vline'))\n",
    "    plota = p.line(site_data[0].index, pd.to_numeric(site_data[0]['Hsig']), color = 'green',legend='Actual')\n",
    "    p.add_tools(HoverTool(renderers=[plota], tooltips=[(\"Hsig\",\"@y\")],mode='vline'))\n",
    "    now_line = Span(location=datetime.datetime.now(),dimension='height', line_color='red',line_dash='dashed', line_width=2)\n",
    "    p.add_layout(now_line)\n",
    "\n",
    "    \n",
    "    p.yaxis.axis_label = \"Signifcant Wave Height (m)\"\n",
    "    \n",
    "    p.legend.location = \"top_left\"\n",
    "    p.legend.click_policy=\"hide\"\n",
    "\n",
    "    from bokeh.resources import CDN\n",
    "    from bokeh.embed import file_html, components\n",
    "    #fig = file_html(p, CDN)\n",
    "    script, div = components(p)\n",
    "    return (script, div)"
   ]
  },
  {
   "cell_type": "code",
   "execution_count": null,
   "metadata": {},
   "outputs": [],
   "source": [
    "def plot_bokeh_per(site_data):\n",
    "    \"\"\"generate a plot object based on a list of forecasts and actuals for a location\"\"\"\n",
    "    print(site_data[0].iloc[0,1])\n",
    "    sitename = site_data[0].iloc[0,1]\n",
    "    \n",
    "    p = figure(x_axis_type=\"datetime\", plot_height = 500, plot_width = 1000, title=sitename )\n",
    "    p.sizing_mode = 'scale_width'\n",
    "    \n",
    "    for fore in site_data[1:-1]:\n",
    "        p.line(fore.index, y = fore['perpwsfc'], line_alpha=0.25, line_dash='dashed', color = 'orange')\n",
    "\n",
    "    plotf =p.line(x = site_data[-1].index,y = site_data[-1]['perpwsfc'], color = 'orange',legend='Forecast')\n",
    "    p.add_tools(HoverTool(renderers=[plotf], tooltips=[(\"T02\",\"@y\")],mode='vline'))\n",
    "    plota = p.line(site_data[0].index, pd.to_numeric(site_data[0]['Tz']), color = 'pink',legend='Actual')\n",
    "    p.add_tools(HoverTool(renderers=[plota], tooltips=[(\"Tz\",\"@y\")],mode='vline'))\n",
    "    now_line = Span(location=datetime.datetime.now(),dimension='height', line_color='red',line_dash='dashed', line_width=2)\n",
    "    p.add_layout(now_line)\n",
    "\n",
    "    \n",
    "    p.yaxis.axis_label = \"Wave Period (Seconds)\"\n",
    "    \n",
    "    p.legend.location = \"top_left\"\n",
    "    p.legend.click_policy=\"hide\"\n",
    "\n",
    "    from bokeh.resources import CDN\n",
    "    from bokeh.embed import file_html, components\n",
    "    #fig = file_html(p, CDN)\n",
    "    script, div = components(p)\n",
    "    #show(p)\n",
    "    return (script, div)"
   ]
  },
  {
   "cell_type": "code",
   "execution_count": 5,
   "metadata": {},
   "outputs": [
    {
     "name": "stdout",
     "output_type": "stream",
     "text": [
      "['Tweed Heads' 'Gold Coast' 'North Moreton Bay' 'Hay Point' 'Townsville'\n",
      " 'Albatross Bay' 'Bundaberg' 'Mackay Mk4' 'Palm Beach Mk4' 'Brisbane Mk4']\n"
     ]
    }
   ],
   "source": [
    "site_data = get_data()"
   ]
  },
  {
   "cell_type": "code",
   "execution_count": 61,
   "metadata": {},
   "outputs": [],
   "source": [
    "\n",
    "forecast = site_data[0][-2]\n",
    "wb_data = site_data[0][0]"
   ]
  },
  {
   "cell_type": "code",
   "execution_count": null,
   "metadata": {},
   "outputs": [],
   "source": []
  },
  {
   "cell_type": "code",
   "execution_count": 62,
   "metadata": {},
   "outputs": [],
   "source": [
    "fore_sel = forecast.loc[:wb_data.index[-1]]"
   ]
  },
  {
   "cell_type": "code",
   "execution_count": 63,
   "metadata": {},
   "outputs": [],
   "source": [
    "wb_data = wb_data.loc[fore_sel.index[0]:fore_sel.index[-1]]"
   ]
  },
  {
   "cell_type": "code",
   "execution_count": 64,
   "metadata": {},
   "outputs": [],
   "source": [
    "fore_sel = fore_sel.resample('30min')\n",
    "fore_sel = fore_sel.interpolate(method='linear')"
   ]
  },
  {
   "cell_type": "code",
   "execution_count": 65,
   "metadata": {},
   "outputs": [
    {
     "data": {
      "text/plain": [
       "<matplotlib.axes._subplots.AxesSubplot at 0x28ab075cac8>"
      ]
     },
     "execution_count": 65,
     "metadata": {},
     "output_type": "execute_result"
    },
    {
     "data": {
      "image/png": "[encoded data removed]",
      "text/plain": [
       "<Figure size 432x288 with 1 Axes>"
      ]
     },
     "metadata": {
      "needs_background": "light"
     },
     "output_type": "display_data"
    }
   ],
   "source": [
    "fore_sel.htsgwsfc.plot()\n",
    "wb_data.Hsig.plot()"
   ]
  },
  {
   "cell_type": "code",
   "execution_count": 58,
   "metadata": {},
   "outputs": [],
   "source": [
    "from sklearn.metrics import mean_squared_error, mean_absolute_error, explained_variance_score"
   ]
  },
  {
   "cell_type": "code",
   "execution_count": 66,
   "metadata": {},
   "outputs": [
    {
     "ename": "ValueError",
     "evalue": "Found input variables with inconsistent numbers of samples: [18, 19]",
     "output_type": "error",
     "traceback": [
      "\u001b[1;31m---------------------------------------------------------------------------\u001b[0m",
      "\u001b[1;31mValueError\u001b[0m                                Traceback (most recent call last)",
      "\u001b[1;32m<ipython-input-66-047cfa8467c1>\u001b[0m in \u001b[0;36m<module>\u001b[1;34m\u001b[0m\n\u001b[1;32m----> 1\u001b[1;33m \u001b[0mmean_squared_error\u001b[0m\u001b[1;33m(\u001b[0m\u001b[0mwb_data\u001b[0m\u001b[1;33m.\u001b[0m\u001b[0mHsig\u001b[0m\u001b[1;33m,\u001b[0m \u001b[0mfore_sel\u001b[0m\u001b[1;33m.\u001b[0m\u001b[0mhtsgwsfc\u001b[0m\u001b[1;33m)\u001b[0m\u001b[1;33m\u001b[0m\u001b[1;33m\u001b[0m\u001b[0m\n\u001b[0m",
      "\u001b[1;32m~\\Anaconda3\\envs\\mlenv\\lib\\site-packages\\sklearn\\metrics\\regression.py\u001b[0m in \u001b[0;36mmean_squared_error\u001b[1;34m(y_true, y_pred, sample_weight, multioutput)\u001b[0m\n\u001b[0;32m    237\u001b[0m     \"\"\"\n\u001b[0;32m    238\u001b[0m     y_type, y_true, y_pred, multioutput = _check_reg_targets(\n\u001b[1;32m--> 239\u001b[1;33m         y_true, y_pred, multioutput)\n\u001b[0m\u001b[0;32m    240\u001b[0m     \u001b[0mcheck_consistent_length\u001b[0m\u001b[1;33m(\u001b[0m\u001b[0my_true\u001b[0m\u001b[1;33m,\u001b[0m \u001b[0my_pred\u001b[0m\u001b[1;33m,\u001b[0m \u001b[0msample_weight\u001b[0m\u001b[1;33m)\u001b[0m\u001b[1;33m\u001b[0m\u001b[1;33m\u001b[0m\u001b[0m\n\u001b[0;32m    241\u001b[0m     output_errors = np.average((y_true - y_pred) ** 2, axis=0,\n",
      "\u001b[1;32m~\\Anaconda3\\envs\\mlenv\\lib\\site-packages\\sklearn\\metrics\\regression.py\u001b[0m in \u001b[0;36m_check_reg_targets\u001b[1;34m(y_true, y_pred, multioutput)\u001b[0m\n\u001b[0;32m     73\u001b[0m \u001b[1;33m\u001b[0m\u001b[0m\n\u001b[0;32m     74\u001b[0m     \"\"\"\n\u001b[1;32m---> 75\u001b[1;33m     \u001b[0mcheck_consistent_length\u001b[0m\u001b[1;33m(\u001b[0m\u001b[0my_true\u001b[0m\u001b[1;33m,\u001b[0m \u001b[0my_pred\u001b[0m\u001b[1;33m)\u001b[0m\u001b[1;33m\u001b[0m\u001b[1;33m\u001b[0m\u001b[0m\n\u001b[0m\u001b[0;32m     76\u001b[0m     \u001b[0my_true\u001b[0m \u001b[1;33m=\u001b[0m \u001b[0mcheck_array\u001b[0m\u001b[1;33m(\u001b[0m\u001b[0my_true\u001b[0m\u001b[1;33m,\u001b[0m \u001b[0mensure_2d\u001b[0m\u001b[1;33m=\u001b[0m\u001b[1;32mFalse\u001b[0m\u001b[1;33m)\u001b[0m\u001b[1;33m\u001b[0m\u001b[1;33m\u001b[0m\u001b[0m\n\u001b[0;32m     77\u001b[0m     \u001b[0my_pred\u001b[0m \u001b[1;33m=\u001b[0m \u001b[0mcheck_array\u001b[0m\u001b[1;33m(\u001b[0m\u001b[0my_pred\u001b[0m\u001b[1;33m,\u001b[0m \u001b[0mensure_2d\u001b[0m\u001b[1;33m=\u001b[0m\u001b[1;32mFalse\u001b[0m\u001b[1;33m)\u001b[0m\u001b[1;33m\u001b[0m\u001b[1;33m\u001b[0m\u001b[0m\n",
      "\u001b[1;32m~\\Anaconda3\\envs\\mlenv\\lib\\site-packages\\sklearn\\utils\\validation.py\u001b[0m in \u001b[0;36mcheck_consistent_length\u001b[1;34m(*arrays)\u001b[0m\n\u001b[0;32m    233\u001b[0m     \u001b[1;32mif\u001b[0m \u001b[0mlen\u001b[0m\u001b[1;33m(\u001b[0m\u001b[0muniques\u001b[0m\u001b[1;33m)\u001b[0m \u001b[1;33m>\u001b[0m \u001b[1;36m1\u001b[0m\u001b[1;33m:\u001b[0m\u001b[1;33m\u001b[0m\u001b[1;33m\u001b[0m\u001b[0m\n\u001b[0;32m    234\u001b[0m         raise ValueError(\"Found input variables with inconsistent numbers of\"\n\u001b[1;32m--> 235\u001b[1;33m                          \" samples: %r\" % [int(l) for l in lengths])\n\u001b[0m\u001b[0;32m    236\u001b[0m \u001b[1;33m\u001b[0m\u001b[0m\n\u001b[0;32m    237\u001b[0m \u001b[1;33m\u001b[0m\u001b[0m\n",
      "\u001b[1;31mValueError\u001b[0m: Found input variables with inconsistent numbers of samples: [18, 19]"
     ]
    }
   ],
   "source": [
    "mean_squared_error(wb_data.Hsig, fore_sel.htsgwsfc)"
   ]
  },
  {
   "cell_type": "code",
   "execution_count": 67,
   "metadata": {},
   "outputs": [
    {
     "data": {
      "text/plain": [
       "0.002020197167116052"
      ]
     },
     "execution_count": 67,
     "metadata": {},
     "output_type": "execute_result"
    }
   ],
   "source": [
    "wb_data.Hsig.cov(fore_sel.htsgwsfc)"
   ]
  },
  {
   "cell_type": "code",
   "execution_count": null,
   "metadata": {},
   "outputs": [],
   "source": [
    "def generate_report():\n",
    "    \"\"\"Takes the wb and forecast data and generates a html report based on the plots\"\"\"\n",
    "\n",
    "    plots = []\n",
    "    site_data = get_data()\n",
    "    for d in site_data:\n",
    "        plots.append(plot_bokeh(d))\n",
    "        plots.append(plot_bokeh_per(d))\n",
    "    \n",
    "    name = 'NOAA_Forecast_Report_online.html'\n",
    "    html = open(name, 'w')\n",
    "    \n",
    "    begin = \"\"\"<!DOCTYPE html>\\n\n",
    "                <html lang=\"en\">\\n\n",
    "                <head>\\n\n",
    "                  <title>Wave Information</title>\\n\n",
    "                  <meta charset=\"utf-8\">\\n\n",
    "              <meta name=\"viewport\" content=\"width=device-width, initial-scale=1\">\\n\n",
    "              <link rel=\"stylesheet\" href=\"https://maxcdn.bootstrapcdn.com/bootstrap/3.3.7/css/bootstrap.min.css\">\\n\n",
    "              <script src=\"https://ajax.googleapis.com/ajax/libs/jquery/3.3.1/jquery.min.js\"></script>\\n\n",
    "              <script src=\"https://maxcdn.bootstrapcdn.com/bootstrap/3.3.7/js/bootstrap.min.js\"></script>\\n\n",
    "            </head>\\n\n",
    "            <body>\\n\n",
    "                <div class=\"container\">\\n\n",
    "                  <h1>Forecast and Actual Wave Information</h1>\\n\n",
    "                  <p>Data sourced from &copy; Queensland Government and &copy; National Oceanographic and Atmospheric Administration 2019</p> \\n\n",
    "                  <p>A comparison of forecast data from the NOAA's multigrid wave model and wave monitoring stations from Queensland Government</p> \\n\n",
    "                </div>\\n\n",
    "                <div class=\"container\">\\n\n",
    "                  <h3>Plot Explanation:</h3>\\n\n",
    "                    <p>The plots contain the measured wave height (green) recent forecast (solid blue) and the previous 3 forecasts (light blue)</p>\\n\n",
    "                    <p>The measured wave height uses the significant wave height estimated as Hsig (the highest 1/3 waves), the forecast is calculated as Hm0 (from the wave spectra)</p>\\n\n",
    "                </div>\\n\n",
    "            </body>\\n\"\"\"\n",
    "    html.write(begin)\n",
    "    bokeh_setup = \"\"\"<link\n",
    "    href=\"https://cdn.pydata.org/bokeh/release/bokeh-1.0.1.min.css\"\n",
    "    rel=\"stylesheet\" type=\"text/css\">\n",
    "    <link\n",
    "    href=\"https://cdn.pydata.org/bokeh/release/bokeh-widgets-1.0.1.min.css\"\n",
    "    rel=\"stylesheet\" type=\"text/css\">\n",
    "    <link\n",
    "    href=\"https://cdn.pydata.org/bokeh/release/bokeh-tables-1.0.1.min.css\"\n",
    "    rel=\"stylesheet\" type=\"text/css\">\n",
    "\n",
    "    <script src=\"https://cdn.pydata.org/bokeh/release/bokeh-1.0.1.min.js\"></script>\n",
    "    <script src=\"https://cdn.pydata.org/bokeh/release/bokeh-widgets-1.0.1.min.js\"></script>\"\"\"\n",
    "    html.write(bokeh_setup)\n",
    "    size = \"\"\"<style type=\"text/css\">\n",
    "    .plots {\n",
    "        height: 35%;\n",
    "        width: 75%;\n",
    "        margin: auto;\n",
    "    }</style>\"\"\"\n",
    "    \n",
    "    \n",
    "    \n",
    "    for figs in plots:\n",
    "        html.write(\"<head>\\n\")\n",
    "        html.write(size + \"\\n\")\n",
    "        html.write(figs[0] + \"\\n\")\n",
    "        html.write(\"</head>\")\n",
    "        html.write(\"<body>\\n\")\n",
    "        html.write(\"\"\"\"<div class=\"plots\">\"\"\")\n",
    "        html.write(figs[-1])\n",
    "        html.write(\"</div>\")\n",
    "        html.write(\"</body>\")\n",
    "        \n",
    "    html.close()\n",
    "    return"
   ]
  },
  {
   "cell_type": "code",
   "execution_count": null,
   "metadata": {},
   "outputs": [],
   "source": [
    "if __name__ == '__main__':\n",
    "    generate_report()"
   ]
  }
 ],
 "metadata": {
  "kernelspec": {
   "display_name": "Python 3",
   "language": "python",
   "name": "python3"
  },
  "language_info": {
   "codemirror_mode": {
    "name": "ipython",
    "version": 3
   },
   "file_extension": ".py",
   "mimetype": "text/x-python",
   "name": "python",
   "nbconvert_exporter": "python",
   "pygments_lexer": "ipython3",
   "version": "3.6.7"
  }
 },
 "nbformat": 4,
 "nbformat_minor": 2
}
