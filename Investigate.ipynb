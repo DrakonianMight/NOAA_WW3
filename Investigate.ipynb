{
 "cells": [
  {
   "cell_type": "code",
   "execution_count": 136,
   "metadata": {},
   "outputs": [],
   "source": [
    "mydate='20190124'\n",
    "url='http://nomads.ncep.noaa.gov:9090/dods/wave/nww3/nww3'+ \\\n",
    "    mydate+'/nww3'+mydate+'_00z'\n",
    "url = 'http://nomads.ncep.noaa.gov:9090/dods/wave/mww3/20190124/multi_1.glo_30mext20190124_00z'"
   ]
  },
  {
   "cell_type": "code",
   "execution_count": 137,
   "metadata": {},
   "outputs": [],
   "source": [
    "import xarray as xr\n",
    "dataset = xr.open_dataset(url)"
   ]
  },
  {
   "cell_type": "code",
   "execution_count": 138,
   "metadata": {},
   "outputs": [
    {
     "data": {
      "text/plain": [
       "<xarray.Dataset>\n",
       "Dimensions:   (lat: 336, lon: 720, time: 61)\n",
       "Coordinates:\n",
       "  * time      (time) datetime64[ns] 2019-01-24 ... 2019-01-31T12:00:00\n",
       "  * lat       (lat) float64 -77.5 -77.0 -76.5 -76.0 ... 88.5 89.0 89.5 90.0\n",
       "  * lon       (lon) float64 0.0 0.5 1.0 1.5 2.0 ... 358.0 358.5 359.0 359.5\n",
       "Data variables:\n",
       "    dirpwsfc  (time, lat, lon) float32 ...\n",
       "    htsgwsfc  (time, lat, lon) float32 ...\n",
       "    perpwsfc  (time, lat, lon) float32 ...\n",
       "    swdir_1   (time, lat, lon) float32 ...\n",
       "    swdir_2   (time, lat, lon) float32 ...\n",
       "    swell_1   (time, lat, lon) float32 ...\n",
       "    swell_2   (time, lat, lon) float32 ...\n",
       "    swper_1   (time, lat, lon) float32 ...\n",
       "    swper_2   (time, lat, lon) float32 ...\n",
       "    ugrdsfc   (time, lat, lon) float32 ...\n",
       "    vgrdsfc   (time, lat, lon) float32 ...\n",
       "    wdirsfc   (time, lat, lon) float32 ...\n",
       "    windsfc   (time, lat, lon) float32 ...\n",
       "    wvdirsfc  (time, lat, lon) float32 ...\n",
       "    wvhgtsfc  (time, lat, lon) float32 ...\n",
       "    wvpersfc  (time, lat, lon) float32 ...\n",
       "Attributes:\n",
       "    title:        Multi-grid wave model: Global 30 arc-min grid from 00Z24jan...\n",
       "    Conventions:  COARDS\\nGrADS\n",
       "    dataType:     Grid\n",
       "    history:      Fri Jan 25 02:34:05 GMT 2019 : imported by GrADS Data Serve..."
      ]
     },
     "execution_count": 138,
     "metadata": {},
     "output_type": "execute_result"
    }
   ],
   "source": [
    "dataset"
   ]
  },
  {
   "cell_type": "code",
   "execution_count": 132,
   "metadata": {},
   "outputs": [],
   "source": [
    "datasub = dataset.sel(lon=153.4844, lat=-28.09825, method='nearest')"
   ]
  },
  {
   "cell_type": "code",
   "execution_count": 133,
   "metadata": {},
   "outputs": [
    {
     "data": {
      "text/plain": [
       "array([0.78999996, 0.75      , 0.74      , 0.72999996, 0.7       ,\n",
       "       0.66999996, 0.65      , 0.63      , 0.61      , 0.64      ,\n",
       "       0.66999996, 0.66999996, 0.7       , 0.75      , 0.77      ,\n",
       "       0.78      , 0.78999996, 0.84999996, 0.9       , 0.91999996,\n",
       "       0.94      , 0.96999997, 0.98999995, 1.02      , 1.04      ,\n",
       "       1.0699999 , 1.0699999 , 1.09      , 1.13      , 1.15      ,\n",
       "       1.12      , 1.0799999 , 1.03      , 1.        , 0.98999995,\n",
       "       0.96999997, 0.98999995, 1.01      , 1.01      , 0.98999995,\n",
       "       0.96      , 0.95      , 0.94      , 0.93      , 0.96999997,\n",
       "       1.03      , 1.09      , 1.14      , 1.18      , 1.22      ,\n",
       "       1.26      , 1.26      , 1.27      , 1.3       , 1.3199999 ,\n",
       "       1.3399999 , 1.3399999 , 1.3399999 , 1.3399999 , 1.31      ,\n",
       "       1.29      ], dtype=float32)"
      ]
     },
     "execution_count": 133,
     "metadata": {},
     "output_type": "execute_result"
    }
   ],
   "source": [
    "datasub.htsgwsfc.data"
   ]
  },
  {
   "cell_type": "code",
   "execution_count": 134,
   "metadata": {},
   "outputs": [
    {
     "data": {
      "text/plain": [
       "array(['2019-01-24T00:00:00.000000000', '2019-01-24T03:00:00.000000000',\n",
       "       '2019-01-24T06:00:00.000000000', '2019-01-24T09:00:00.000000000',\n",
       "       '2019-01-24T12:00:00.000000000', '2019-01-24T15:00:00.000000000',\n",
       "       '2019-01-24T18:00:00.000000000', '2019-01-24T21:00:00.000000000',\n",
       "       '2019-01-25T00:00:00.000000000', '2019-01-25T03:00:00.000000000',\n",
       "       '2019-01-25T06:00:00.000000000', '2019-01-25T09:00:00.000000000',\n",
       "       '2019-01-25T12:00:00.000000000', '2019-01-25T15:00:00.000000000',\n",
       "       '2019-01-25T18:00:00.000000000', '2019-01-25T21:00:00.000000000',\n",
       "       '2019-01-26T00:00:00.000000000', '2019-01-26T03:00:00.000000000',\n",
       "       '2019-01-26T06:00:00.000000000', '2019-01-26T09:00:00.000000000',\n",
       "       '2019-01-26T12:00:00.000000000', '2019-01-26T15:00:00.000000000',\n",
       "       '2019-01-26T18:00:00.000000000', '2019-01-26T21:00:00.000000000',\n",
       "       '2019-01-27T00:00:00.000000000', '2019-01-27T03:00:00.000000000',\n",
       "       '2019-01-27T06:00:00.000000000', '2019-01-27T09:00:00.000000000',\n",
       "       '2019-01-27T12:00:00.000000000', '2019-01-27T15:00:00.000000000',\n",
       "       '2019-01-27T18:00:00.000000000', '2019-01-27T21:00:00.000000000',\n",
       "       '2019-01-28T00:00:00.000000000', '2019-01-28T03:00:00.000000000',\n",
       "       '2019-01-28T06:00:00.000000000', '2019-01-28T09:00:00.000000000',\n",
       "       '2019-01-28T12:00:00.000000000', '2019-01-28T15:00:00.000000000',\n",
       "       '2019-01-28T18:00:00.000000000', '2019-01-28T21:00:00.000000000',\n",
       "       '2019-01-29T00:00:00.000000000', '2019-01-29T03:00:00.000000000',\n",
       "       '2019-01-29T06:00:00.000000000', '2019-01-29T09:00:00.000000000',\n",
       "       '2019-01-29T12:00:00.000000000', '2019-01-29T15:00:00.000000000',\n",
       "       '2019-01-29T18:00:00.000000000', '2019-01-29T21:00:00.000000000',\n",
       "       '2019-01-30T00:00:00.000000000', '2019-01-30T03:00:00.000000000',\n",
       "       '2019-01-30T06:00:00.000000000', '2019-01-30T09:00:00.000000000',\n",
       "       '2019-01-30T12:00:00.000000000', '2019-01-30T15:00:00.000000000',\n",
       "       '2019-01-30T18:00:00.000000000', '2019-01-30T21:00:00.000000000',\n",
       "       '2019-01-31T00:00:00.000000000', '2019-01-31T03:00:00.000000000',\n",
       "       '2019-01-31T06:00:00.000000000', '2019-01-31T09:00:00.000000000',\n",
       "       '2019-01-31T12:00:00.000000000'], dtype='datetime64[ns]')"
      ]
     },
     "execution_count": 134,
     "metadata": {},
     "output_type": "execute_result"
    }
   ],
   "source": [
    "datasub.time.data"
   ]
  },
  {
   "cell_type": "code",
   "execution_count": 135,
   "metadata": {},
   "outputs": [
    {
     "data": {
      "text/plain": [
       "<function matplotlib.pyplot.show(*args, **kw)>"
      ]
     },
     "execution_count": 135,
     "metadata": {},
     "output_type": "execute_result"
    },
    {
     "data": {
      "image/png": "[encoded data removed]",
      "text/plain": [
       "<Figure size 432x288 with 1 Axes>"
      ]
     },
     "metadata": {
      "needs_background": "light"
     },
     "output_type": "display_data"
    }
   ],
   "source": [
    "import matplotlib.pyplot as plt\n",
    "\n",
    "fig, ax = plt.subplots()\n",
    "ax.plot(datasub.time.data, datasub.htsgwsfc.data)\n",
    "\n",
    "plt.show"
   ]
  },
  {
   "cell_type": "code",
   "execution_count": null,
   "metadata": {},
   "outputs": [],
   "source": []
  }
 ],
 "metadata": {
  "kernelspec": {
   "display_name": "Python 3",
   "language": "python",
   "name": "python3"
  },
  "language_info": {
   "codemirror_mode": {
    "name": "ipython",
    "version": 3
   },
   "file_extension": ".py",
   "mimetype": "text/x-python",
   "name": "python",
   "nbconvert_exporter": "python",
   "pygments_lexer": "ipython3",
   "version": "3.6.8"
  }
 },
 "nbformat": 4,
 "nbformat_minor": 2
}
